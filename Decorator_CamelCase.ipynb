{
 "cells": [
  {
   "cell_type": "code",
   "execution_count": 12,
   "id": "7c3e15f5",
   "metadata": {},
   "outputs": [],
   "source": [
    "def camelcase(s):\n",
    "#     convert \"this_is_a_string\" into \"ThisIsAString\"\n",
    "    splited_string = s.split(\"_\")\n",
    "    join_string = \"\"\n",
    "    for word in splited_string:\n",
    "        join_string += word.capitalize()\n",
    "    print(join_string)\n",
    "        "
   ]
  },
  {
   "cell_type": "code",
   "execution_count": 13,
   "id": "ac17d422",
   "metadata": {},
   "outputs": [
    {
     "name": "stdout",
     "output_type": "stream",
     "text": [
      "ThisIsAString\n"
     ]
    }
   ],
   "source": [
    "camelcase(\"this_is_a_string\")"
   ]
  },
  {
   "cell_type": "markdown",
   "id": "1028fafb",
   "metadata": {},
   "source": [
    "Optimize Program"
   ]
  },
  {
   "cell_type": "code",
   "execution_count": 16,
   "id": "16449fe6",
   "metadata": {},
   "outputs": [],
   "source": [
    "def optiCamel(string):\n",
    "    print([word.capitalize () for word in string.split(\"_\")])"
   ]
  },
  {
   "cell_type": "code",
   "execution_count": 17,
   "id": "51b4197d",
   "metadata": {},
   "outputs": [
    {
     "name": "stdout",
     "output_type": "stream",
     "text": [
      "['This', 'Is', 'A', 'String']\n"
     ]
    }
   ],
   "source": [
    "optiCamel(\"this_is_a_string\")"
   ]
  },
  {
   "cell_type": "code",
   "execution_count": 36,
   "id": "fdfd8b3c",
   "metadata": {},
   "outputs": [],
   "source": [
    "def camelList(func):\n",
    "    def inner(list_of_string):\n",
    "        return [func(string) for string in list_of_string]\n",
    "    return inner\n",
    "i = 0\n",
    "@camelList\n",
    "def optiCamel(string):\n",
    "    global i\n",
    "    i += 1\n",
    "    print(i)\n",
    "    print( \"\".join([word.capitalize () for word in string.split(\"_\")]) )"
   ]
  },
  {
   "cell_type": "code",
   "execution_count": 28,
   "id": "5d5ea211",
   "metadata": {},
   "outputs": [
    {
     "name": "stdout",
     "output_type": "stream",
     "text": [
      "1\n",
      "ThisIsAString\n",
      "2\n",
      "ThisIsMyString\n"
     ]
    },
    {
     "data": {
      "text/plain": [
       "[None, None]"
      ]
     },
     "execution_count": 28,
     "metadata": {},
     "output_type": "execute_result"
    }
   ],
   "source": [
    "optiCamel([\"this_is_a_string\", \"this_is_my_string\"])"
   ]
  },
  {
   "cell_type": "markdown",
   "id": "1f8c3381",
   "metadata": {},
   "source": [
    "    What is [None, None] in stdout?"
   ]
  },
  {
   "cell_type": "code",
   "execution_count": 41,
   "id": "e3041016",
   "metadata": {},
   "outputs": [],
   "source": [
    "def camelList(func):\n",
    "    def inner(list_of_string):\n",
    "        if type(list_of_string) is list:\n",
    "            return [func(string) for string in list_of_string]\n",
    "        else:\n",
    "            return func(list_of_string)\n",
    "    return inner\n",
    "\n",
    "@camelList\n",
    "def optiCamel(string):\n",
    "    return \"\".join([word.capitalize () for word in string.split(\"_\")])"
   ]
  },
  {
   "cell_type": "code",
   "execution_count": 42,
   "id": "03424604",
   "metadata": {},
   "outputs": [
    {
     "data": {
      "text/plain": [
       "'ThisIsAString'"
      ]
     },
     "execution_count": 42,
     "metadata": {},
     "output_type": "execute_result"
    }
   ],
   "source": [
    "optiCamel(\"this_is_a_string\")"
   ]
  },
  {
   "cell_type": "code",
   "execution_count": null,
   "id": "a89d6c2f",
   "metadata": {},
   "outputs": [],
   "source": []
  }
 ],
 "metadata": {
  "kernelspec": {
   "display_name": "Python 3 (ipykernel)",
   "language": "python",
   "name": "python3"
  },
  "language_info": {
   "codemirror_mode": {
    "name": "ipython",
    "version": 3
   },
   "file_extension": ".py",
   "mimetype": "text/x-python",
   "name": "python",
   "nbconvert_exporter": "python",
   "pygments_lexer": "ipython3",
   "version": "3.9.12"
  }
 },
 "nbformat": 4,
 "nbformat_minor": 5
}
